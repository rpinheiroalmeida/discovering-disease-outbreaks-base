{
 "cells": [
  {
   "cell_type": "code",
   "execution_count": 7,
   "metadata": {},
   "outputs": [
    {
     "name": "stdout",
     "output_type": "stream",
     "text": [
      "7\n"
     ]
    }
   ],
   "source": [
    "import re\n",
    "regexp = re.compile(\"(M|m)iami\")\n",
    "count = 0\n",
    "file = open(\"data/headlines-sample.txt\", 'r')\n",
    "for line in file.readlines():\n",
    "    if regexp.search(line):\n",
    "        count = count + 1\n",
    "file.close()\n",
    "print(count)"
   ]
  },
  {
   "cell_type": "code",
   "execution_count": 8,
   "metadata": {},
   "outputs": [],
   "source": [
    "# Others ways to search by a word:\n",
    "regexp = re.compile(\"hello|Hello\")\n",
    "regexp = re.compile(\"(h|H)ello\")\n",
    "regexp = re.compile(\"[hH]ello\")\n",
    "[-012] # match a hyphen, a 0, a 1, or a 2, and nothing else."
   ]
  },
  {
   "cell_type": "code",
   "execution_count": 15,
   "metadata": {},
   "outputs": [
    {
     "name": "stdout",
     "output_type": "stream",
     "text": [
      "['-', '5', '5', '9']\n"
     ]
    }
   ],
   "source": [
    "regexp = re.compile(\"[[-5]|-9]\")\n",
    "line = \"Hello, -5, 4, 5,9\"\n",
    "count = 0\n",
    "print(regexp.findall(line))\n"
   ]
  },
  {
   "cell_type": "code",
   "execution_count": 16,
   "metadata": {},
   "outputs": [
    {
     "data": {
      "text/plain": [
       "'12345'"
      ]
     },
     "execution_count": 16,
     "metadata": {},
     "output_type": "execute_result"
    }
   ],
   "source": [
    "# Raw strings\n",
    "r\"Hello\"\n",
    "r\"\"\"\\tTo be\\n\\tor not to be\"\"\"\n",
    "r'Goodbye'\n",
    "r'''12345'''"
   ]
  },
  {
   "cell_type": "code",
   "execution_count": 17,
   "metadata": {},
   "outputs": [
    {
     "data": {
      "text/plain": [
       "True"
      ]
     },
     "execution_count": 17,
     "metadata": {},
     "output_type": "execute_result"
    }
   ],
   "source": [
    "r\"Hello\" == \"Hello\""
   ]
  },
  {
   "cell_type": "code",
   "execution_count": 19,
   "metadata": {},
   "outputs": [
    {
     "data": {
      "text/plain": [
       "True"
      ]
     },
     "execution_count": 19,
     "metadata": {},
     "output_type": "execute_result"
    }
   ],
   "source": [
    "r\"\\the\" == \"\\\\the\""
   ]
  },
  {
   "cell_type": "code",
   "execution_count": 20,
   "metadata": {},
   "outputs": [
    {
     "data": {
      "text/plain": [
       "False"
      ]
     },
     "execution_count": 20,
     "metadata": {},
     "output_type": "execute_result"
    }
   ],
   "source": [
    "r\"\\the\" == \"\\the\" "
   ]
  },
  {
   "cell_type": "code",
   "execution_count": 21,
   "metadata": {},
   "outputs": [
    {
     "name": "stdout",
     "output_type": "stream",
     "text": [
      "\\the\n"
     ]
    }
   ],
   "source": [
    "print(r\"\\the\")"
   ]
  },
  {
   "cell_type": "code",
   "execution_count": 22,
   "metadata": {},
   "outputs": [
    {
     "name": "stdout",
     "output_type": "stream",
     "text": [
      "\the\n"
     ]
    }
   ],
   "source": [
    "print(\"\\the\")"
   ]
  },
  {
   "cell_type": "code",
   "execution_count": 23,
   "metadata": {},
   "outputs": [],
   "source": [
    "regexp = re.compile(r\"\\\\ten\") # The compiled regex looks for a single backslash followed by the letters ten."
   ]
  },
  {
   "cell_type": "code",
   "execution_count": 44,
   "metadata": {},
   "outputs": [],
   "source": [
    "# surname, firstname middlename: phonenumber\n",
    "\n",
    "regexp = re.compile(\"[-a-zA-Z]+, [-a-zA-Z]+( [-a-zA-Z]+)?: (\\d{3}-)?\\d{3}-\\d{4}\")\n",
    "line = r\"Mac, Keneddy Donald: 123-456-7890\"\n",
    "result = regexp.search(line)\n",
    "\n",
    "if result == None:\n",
    "    print(':-(')"
   ]
  },
  {
   "cell_type": "code",
   "execution_count": 47,
   "metadata": {},
   "outputs": [
    {
     "name": "stdout",
     "output_type": "stream",
     "text": [
      "Oops, I don't think this is a record\n"
     ]
    }
   ],
   "source": [
    "regexp = re.compile(r\"(?P<last>[-a-zA-Z]+),\"\n",
    "                    r\" (?P<first>[-a-zA-Z]+)\"\n",
    "                    r\"( (?P<middle>([-a-zA-Z]+)))?\"\n",
    "                    r\": (?P<phone>(\\(\\d{3}-)?\\d{3}-\\d{4})\"\n",
    "                   )\n",
    "line = r\"Mac, Keneddy  Donald: 123-456-7890\"\n",
    "result =  regexp.search(line)\n",
    "if result == None:\n",
    "    print(\"Oops, I don't think this is a record\")\n",
    "else:\n",
    "    lastname = result.group('last')\n",
    "    firstname = result.group('first')\n",
    "    middlename = result.group('middle')\n",
    "    if middlename == None:\n",
    "        middlename = \"\"\n",
    "    phonenumber = result.group('phone')\n",
    "    print('Name: ', firstname, middlename, lastname, ' Number: ', phonenumber)"
   ]
  },
  {
   "cell_type": "code",
   "execution_count": 50,
   "metadata": {},
   "outputs": [
    {
     "data": {
      "text/plain": [
       "'If the problem is textual, use the re module'"
      ]
     },
     "execution_count": 50,
     "metadata": {},
     "output_type": "execute_result"
    }
   ],
   "source": [
    "string = \"If the the problem is textual, use the the re module\"\n",
    "pattern = r\"the the\"\n",
    "regexp = re.compile(pattern)\n",
    "regexp.sub(\"the\", string)\n"
   ]
  },
  {
   "cell_type": "code",
   "execution_count": 51,
   "metadata": {},
   "outputs": [
    {
     "data": {
      "text/plain": [
       "'1.0 2.0 3.0 4.0 5.0'"
      ]
     },
     "execution_count": 51,
     "metadata": {},
     "output_type": "execute_result"
    }
   ],
   "source": [
    "int_string = \"1 2 3 4 5\"\n",
    "def int_match_to_float(match_obj):\n",
    "    return (match_obj.group('num') + \".0\")\n",
    "\n",
    "pattern = r\"(?P<num>[0-9])\"\n",
    "regexp = re.compile(pattern)\n",
    "regexp.sub(int_match_to_float, int_string)"
   ]
  },
  {
   "cell_type": "code",
   "execution_count": null,
   "metadata": {},
   "outputs": [],
   "source": []
  }
 ],
 "metadata": {
  "kernelspec": {
   "display_name": "Python 3",
   "language": "python",
   "name": "python3"
  },
  "language_info": {
   "codemirror_mode": {
    "name": "ipython",
    "version": 3
   },
   "file_extension": ".py",
   "mimetype": "text/x-python",
   "name": "python",
   "nbconvert_exporter": "python",
   "pygments_lexer": "ipython3",
   "version": "3.7.2"
  }
 },
 "nbformat": 4,
 "nbformat_minor": 2
}
