{
 "cells": [
  {
   "cell_type": "code",
   "execution_count": 9,
   "metadata": {},
   "outputs": [],
   "source": [
    "assert 'Boston' in 'Boston Marathon'\n",
    "assert 'Boston Marathon'.startswith('Boston')\n",
    "assert 'Boston Marathon'.endswith('Boston') == False"
   ]
  },
  {
   "cell_type": "code",
   "execution_count": 11,
   "metadata": {},
   "outputs": [],
   "source": [
    "assert 'in a' in 'sin apple'\n",
    "assert 'in a' in 'win attached'"
   ]
  },
  {
   "cell_type": "code",
   "execution_count": 12,
   "metadata": {},
   "outputs": [],
   "source": [
    "import re\n",
    "regex = 'Boston'\n",
    "random_text = 'Clown Patty'\n",
    "match = re.search(regex, random_text)\n",
    "assert match is None"
   ]
  },
  {
   "cell_type": "code",
   "execution_count": 13,
   "metadata": {},
   "outputs": [],
   "source": [
    "matchable_text = 'Boston Marathon'\n",
    "match = re.search(regex, matchable_text)\n",
    "assert match is not None\n"
   ]
  },
  {
   "cell_type": "code",
   "execution_count": 16,
   "metadata": {},
   "outputs": [],
   "source": [
    "start, end = match.start(), match.end()\n",
    "matched_string = matchable_text[start:end]\n",
    "assert matched_string == 'Boston'"
   ]
  },
  {
   "cell_type": "code",
   "execution_count": 17,
   "metadata": {},
   "outputs": [],
   "source": [
    "for text in ['BOSTON', 'boston', 'BoSTon']:\n",
    "    assert re.search(regex, text, flags=re.IGNORECASE) is not None"
   ]
  },
  {
   "cell_type": "code",
   "execution_count": 19,
   "metadata": {},
   "outputs": [],
   "source": [
    "for regex in ['\\\\bin a\\\\b', r'\\bin a\\b']:\n",
    "    for text in ['sin apple', 'win attached']:\n",
    "        assert re.search(regex, text) is None\n",
    "        \n",
    "    text = 'Match in a string'\n",
    "    assert re.search(regex, text) is not None"
   ]
  },
  {
   "cell_type": "code",
   "execution_count": 21,
   "metadata": {},
   "outputs": [],
   "source": [
    "regex = r'I visited \\b(Boston|Philadelphia|San Francisco)\\b yesterday.'\n",
    "assert re.search(regex, 'I visited Chigado yesterday.')  is None\n",
    "\n",
    "cities = ['Boston', 'Philadelphia', 'San Francisco']\n",
    "for city in cities:\n",
    "    assert re.search(regex, f'I visited {city} yesterday.') is not None"
   ]
  },
  {
   "cell_type": "code",
   "execution_count": 22,
   "metadata": {},
   "outputs": [],
   "source": [
    "compiled_re = re.compile(regex)\n",
    "text = 'I visited Boston yesterday.'\n",
    "for i in range(1000):\n",
    "    assert compiled_re.search(text) is not None"
   ]
  },
  {
   "cell_type": "code",
   "execution_count": null,
   "metadata": {},
   "outputs": [],
   "source": []
  }
 ],
 "metadata": {
  "kernelspec": {
   "display_name": "Python 3",
   "language": "python",
   "name": "python3"
  },
  "language_info": {
   "codemirror_mode": {
    "name": "ipython",
    "version": 3
   },
   "file_extension": ".py",
   "mimetype": "text/x-python",
   "name": "python",
   "nbconvert_exporter": "python",
   "pygments_lexer": "ipython3",
   "version": "3.7.2"
  }
 },
 "nbformat": 4,
 "nbformat_minor": 2
}
